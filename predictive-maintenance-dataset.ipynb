{
 "cells": [
  {
   "cell_type": "code",
   "execution_count": 1,
   "metadata": {
    "_cell_guid": "b1076dfc-b9ad-4769-8c92-a6c4dae69d19",
    "_uuid": "8f2839f25d086af736a60e9eeb907d3b93b6e0e5",
    "execution": {
     "iopub.execute_input": "2025-03-22T10:31:39.939415Z",
     "iopub.status.busy": "2025-03-22T10:31:39.939093Z",
     "iopub.status.idle": "2025-03-22T10:31:39.967270Z",
     "shell.execute_reply": "2025-03-22T10:31:39.966389Z",
     "shell.execute_reply.started": "2025-03-22T10:31:39.939393Z"
    },
    "trusted": true
   },
   "outputs": [],
   "source": [
    "# This Python 3 environment comes with many helpful analytics libraries installed\n",
    "# It is defined by the kaggle/python Docker image: https://github.com/kaggle/docker-python\n",
    "# For example, here's several helpful packages to load\n",
    "\n",
    "import numpy as np # linear algebra\n",
    "import pandas as pd # data processing, CSV file I/O (e.g. pd.read_csv)\n",
    "\n",
    "# Input data files are available in the read-only \"../input/\" directory\n",
    "# For example, running this (by clicking run or pressing Shift+Enter) will list all files under the input directory\n",
    "\n",
    "import os\n",
    "for dirname, _, filenames in os.walk('/kaggle/input'):\n",
    "    for filename in filenames:\n",
    "        print(os.path.join(dirname, filename))\n",
    "\n",
    "# You can write up to 20GB to the current directory (/kaggle/working/) that gets preserved as output when you create a version using \"Save & Run All\" \n",
    "# You can also write temporary files to /kaggle/temp/, but they won't be saved outside of the current session"
   ]
  },
  {
   "cell_type": "code",
   "execution_count": 2,
   "metadata": {
    "execution": {
     "iopub.execute_input": "2025-03-22T10:37:48.266732Z",
     "iopub.status.busy": "2025-03-22T10:37:48.266380Z",
     "iopub.status.idle": "2025-03-22T10:37:48.270554Z",
     "shell.execute_reply": "2025-03-22T10:37:48.269817Z",
     "shell.execute_reply.started": "2025-03-22T10:37:48.266701Z"
    },
    "trusted": true
   },
   "outputs": [],
   "source": [
    "import pandas as pd\n",
    "import matplotlib.pyplot as plt\n",
    "import seaborn as sns\n",
    "# import kagglehub\n",
    "# from kagglehub import KaggleDatasetAdapter"
   ]
  },
  {
   "cell_type": "code",
   "execution_count": 5,
   "metadata": {
    "execution": {
     "iopub.execute_input": "2025-03-22T10:37:50.081963Z",
     "iopub.status.busy": "2025-03-22T10:37:50.081683Z",
     "iopub.status.idle": "2025-03-22T10:37:50.389409Z",
     "shell.execute_reply": "2025-03-22T10:37:50.388660Z",
     "shell.execute_reply.started": "2025-03-22T10:37:50.081942Z"
    },
    "trusted": true
   },
   "outputs": [
    {
     "name": "stdout",
     "output_type": "stream",
     "text": [
      "First 5 records:\n",
      "       date    device  failure    metric1  metric2  metric3  metric4  metric5  \\\n",
      "0  1/1/2015  S1F01085        0  215630672       55        0       52        6   \n",
      "1  1/1/2015  S1F0166B        0   61370680        0        3        0        6   \n",
      "2  1/1/2015  S1F01E6Y        0  173295968        0        0        0       12   \n",
      "3  1/1/2015  S1F01JE0        0   79694024        0        0        0        6   \n",
      "4  1/1/2015  S1F01R2B        0  135970480        0        0        0       15   \n",
      "\n",
      "   metric6  metric7  metric8  metric9  \n",
      "0   407438        0        0        7  \n",
      "1   403174        0        0        0  \n",
      "2   237394        0        0        0  \n",
      "3   410186        0        0        0  \n",
      "4   313173        0        0        3  \n"
     ]
    }
   ],
   "source": [
    "file_path = \"predictive_maintenance_dataset.csv\"\n",
    "\n",
    "df = pd.read_csv(file_path)\n",
    "\n",
    "print(\"First 5 records:\")\n",
    "print(df.head())"
   ]
  },
  {
   "cell_type": "code",
   "execution_count": 6,
   "metadata": {
    "execution": {
     "iopub.execute_input": "2025-03-22T10:37:53.285583Z",
     "iopub.status.busy": "2025-03-22T10:37:53.285307Z",
     "iopub.status.idle": "2025-03-22T10:37:53.288911Z",
     "shell.execute_reply": "2025-03-22T10:37:53.288258Z",
     "shell.execute_reply.started": "2025-03-22T10:37:53.285561Z"
    },
    "trusted": true
   },
   "outputs": [],
   "source": [
    "from sklearn.preprocessing import StandardScaler\n",
    "from sklearn.model_selection import train_test_split"
   ]
  },
  {
   "cell_type": "code",
   "execution_count": 7,
   "metadata": {
    "execution": {
     "iopub.execute_input": "2025-03-22T10:37:56.550892Z",
     "iopub.status.busy": "2025-03-22T10:37:56.550611Z",
     "iopub.status.idle": "2025-03-22T10:37:56.578433Z",
     "shell.execute_reply": "2025-03-22T10:37:56.577773Z",
     "shell.execute_reply.started": "2025-03-22T10:37:56.550861Z"
    },
    "trusted": true
   },
   "outputs": [],
   "source": [
    "from sklearn.preprocessing import LabelEncoder\n",
    "\n",
    "le = LabelEncoder()\n",
    "df['device_encoded'] = le.fit_transform(df['device'])"
   ]
  },
  {
   "cell_type": "code",
   "execution_count": 8,
   "metadata": {
    "execution": {
     "iopub.execute_input": "2025-03-22T10:38:08.785867Z",
     "iopub.status.busy": "2025-03-22T10:38:08.785554Z",
     "iopub.status.idle": "2025-03-22T10:38:08.816488Z",
     "shell.execute_reply": "2025-03-22T10:38:08.815612Z",
     "shell.execute_reply.started": "2025-03-22T10:38:08.785841Z"
    },
    "trusted": true
   },
   "outputs": [],
   "source": [
    "features = ['metric1', 'metric2', 'metric3', 'metric4', 'metric5',\n",
    "            'metric6', 'metric7', 'metric8', 'metric9']\n",
    "scaler = StandardScaler()\n",
    "df[features]=scaler.fit_transform(df[features])\n"
   ]
  },
  {
   "cell_type": "code",
   "execution_count": 9,
   "metadata": {
    "execution": {
     "iopub.execute_input": "2025-03-22T10:38:12.942597Z",
     "iopub.status.busy": "2025-03-22T10:38:12.942291Z",
     "iopub.status.idle": "2025-03-22T10:38:12.949294Z",
     "shell.execute_reply": "2025-03-22T10:38:12.948138Z",
     "shell.execute_reply.started": "2025-03-22T10:38:12.942570Z"
    },
    "trusted": true
   },
   "outputs": [
    {
     "name": "stdout",
     "output_type": "stream",
     "text": [
      "failure\n",
      "0    0.999149\n",
      "1    0.000851\n",
      "Name: proportion, dtype: float64\n"
     ]
    }
   ],
   "source": [
    "print(df['failure'].value_counts(normalize=True))"
   ]
  },
  {
   "cell_type": "code",
   "execution_count": 10,
   "metadata": {
    "execution": {
     "iopub.execute_input": "2025-03-22T10:38:15.464036Z",
     "iopub.status.busy": "2025-03-22T10:38:15.463680Z",
     "iopub.status.idle": "2025-03-22T10:38:15.581680Z",
     "shell.execute_reply": "2025-03-22T10:38:15.580752Z",
     "shell.execute_reply.started": "2025-03-22T10:38:15.464000Z"
    },
    "trusted": true
   },
   "outputs": [],
   "source": [
    "from sklearn.model_selection import train_test_split\n",
    "from imblearn.over_sampling import SMOTE\n",
    "\n",
    "# X and y (already cleaned and scaled)\n",
    "X = df.drop(['failure', 'date', 'device'], axis=1)\n",
    "y = df['failure']\n",
    "\n",
    "# 1. Split before SMOTE\n",
    "X_train, X_test, y_train, y_test = train_test_split(\n",
    "    X, y, test_size=0.2, stratify=y, random_state=42\n",
    ")\n",
    "\n",
    "# 2. Apply SMOTE only on training set\n",
    "smote = SMOTE(random_state=42)\n",
    "X_train_resampled, y_train_resampled = smote.fit_resample(X_train, y_train)\n"
   ]
  },
  {
   "cell_type": "code",
   "execution_count": 11,
   "metadata": {
    "execution": {
     "iopub.execute_input": "2025-03-22T10:38:18.370214Z",
     "iopub.status.busy": "2025-03-22T10:38:18.369868Z",
     "iopub.status.idle": "2025-03-22T10:38:18.374326Z",
     "shell.execute_reply": "2025-03-22T10:38:18.373435Z",
     "shell.execute_reply.started": "2025-03-22T10:38:18.370186Z"
    },
    "trusted": true
   },
   "outputs": [],
   "source": [
    "from sklearn.linear_model import LogisticRegression\n",
    "from sklearn.ensemble import RandomForestClassifier\n",
    "from xgboost import XGBClassifier\n",
    "from sklearn.metrics import classification_report, confusion_matrix, roc_auc_score"
   ]
  },
  {
   "cell_type": "code",
   "execution_count": 12,
   "metadata": {
    "execution": {
     "iopub.execute_input": "2025-03-22T10:38:21.614439Z",
     "iopub.status.busy": "2025-03-22T10:38:21.614150Z",
     "iopub.status.idle": "2025-03-22T10:38:25.994409Z",
     "shell.execute_reply": "2025-03-22T10:38:25.993390Z",
     "shell.execute_reply.started": "2025-03-22T10:38:21.614418Z"
    },
    "trusted": true
   },
   "outputs": [
    {
     "name": "stdout",
     "output_type": "stream",
     "text": [
      "Logistic Regression:\n",
      "[[23694  1184]\n",
      " [   11    10]]\n",
      "              precision    recall  f1-score   support\n",
      "\n",
      "           0       1.00      0.95      0.98     24878\n",
      "           1       0.01      0.48      0.02        21\n",
      "\n",
      "    accuracy                           0.95     24899\n",
      "   macro avg       0.50      0.71      0.50     24899\n",
      "weighted avg       1.00      0.95      0.97     24899\n",
      "\n",
      "ROC AUC: 0.7754068425344252\n"
     ]
    }
   ],
   "source": [
    "from sklearn.linear_model import LogisticRegression\n",
    "from sklearn.ensemble import RandomForestClassifier\n",
    "from xgboost import XGBClassifier\n",
    "from sklearn.metrics import classification_report, confusion_matrix, roc_auc_score\n",
    "\n",
    "# ---- Logistic Regression ----\n",
    "logreg = LogisticRegression(max_iter=1000)\n",
    "logreg.fit(X_train_resampled, y_train_resampled)\n",
    "y_pred_logreg = logreg.predict(X_test)\n",
    "y_proba_logreg = logreg.predict_proba(X_test)[:, 1]\n",
    "\n",
    "print(\"Logistic Regression:\")\n",
    "print(confusion_matrix(y_test, y_pred_logreg))\n",
    "print(classification_report(y_test, y_pred_logreg))\n",
    "print(\"ROC AUC:\", roc_auc_score(y_test, y_proba_logreg))\n",
    "\n",
    "\n",
    "\n"
   ]
  },
  {
   "cell_type": "code",
   "execution_count": null,
   "metadata": {
    "execution": {
     "iopub.execute_input": "2025-03-22T10:38:25.995907Z",
     "iopub.status.busy": "2025-03-22T10:38:25.995672Z",
     "iopub.status.idle": "2025-03-22T10:38:55.250454Z",
     "shell.execute_reply": "2025-03-22T10:38:55.249637Z",
     "shell.execute_reply.started": "2025-03-22T10:38:25.995886Z"
    },
    "trusted": true
   },
   "outputs": [
    {
     "name": "stdout",
     "output_type": "stream",
     "text": [
      "\n",
      "📌 Random Forest:\n",
      "[[24871     7]\n",
      " [   19     2]]\n",
      "              precision    recall  f1-score   support\n",
      "\n",
      "           0       1.00      1.00      1.00     24878\n",
      "           1       0.22      0.10      0.13        21\n",
      "\n",
      "    accuracy                           1.00     24899\n",
      "   macro avg       0.61      0.55      0.57     24899\n",
      "weighted avg       1.00      1.00      1.00     24899\n",
      "\n",
      "ROC AUC: 0.7755810258824971\n"
     ]
    }
   ],
   "source": [
    "\n",
    "# ---- Random Forest ----\n",
    "rf = RandomForestClassifier()\n",
    "rf.fit(X_train_resampled, y_train_resampled)\n",
    "y_pred_rf = rf.predict(X_test)\n",
    "y_proba_rf = rf.predict_proba(X_test)[:, 1]\n",
    "\n",
    "print(\"\\n📌 Random Forest:\")\n",
    "print(confusion_matrix(y_test, y_pred_rf))\n",
    "print(classification_report(y_test, y_pred_rf))\n",
    "print(\"ROC AUC:\", roc_auc_score(y_test, y_proba_rf))"
   ]
  },
  {
   "cell_type": "code",
   "execution_count": null,
   "metadata": {
    "execution": {
     "iopub.execute_input": "2025-03-22T10:38:56.161227Z",
     "iopub.status.busy": "2025-03-22T10:38:56.160918Z",
     "iopub.status.idle": "2025-03-22T10:38:57.062783Z",
     "shell.execute_reply": "2025-03-22T10:38:57.062011Z",
     "shell.execute_reply.started": "2025-03-22T10:38:56.161190Z"
    },
    "trusted": true
   },
   "outputs": [
    {
     "name": "stdout",
     "output_type": "stream",
     "text": [
      "\n",
      "📌 XGBoost:\n",
      "[[24869     9]\n",
      " [   19     2]]\n",
      "              precision    recall  f1-score   support\n",
      "\n",
      "           0       1.00      1.00      1.00     24878\n",
      "           1       0.18      0.10      0.12        21\n",
      "\n",
      "    accuracy                           1.00     24899\n",
      "   macro avg       0.59      0.55      0.56     24899\n",
      "weighted avg       1.00      1.00      1.00     24899\n",
      "\n",
      "ROC AUC: 0.739562397834767\n"
     ]
    }
   ],
   "source": [
    "# ---- XGBoost ----\n",
    "xgb = XGBClassifier(use_label_encoder=False, eval_metric='logloss')\n",
    "xgb.fit(X_train_resampled, y_train_resampled)\n",
    "y_pred_xgb = xgb.predict(X_test)\n",
    "y_proba_xgb = xgb.predict_proba(X_test)[:, 1]\n",
    "\n",
    "print(\"\\n📌 XGBoost:\")\n",
    "print(confusion_matrix(y_test, y_pred_xgb))\n",
    "print(classification_report(y_test, y_pred_xgb))\n",
    "print(\"ROC AUC:\", roc_auc_score(y_test, y_proba_xgb))"
   ]
  },
  {
   "cell_type": "code",
   "execution_count": null,
   "metadata": {
    "execution": {
     "iopub.execute_input": "2025-03-22T10:40:56.590505Z",
     "iopub.status.busy": "2025-03-22T10:40:56.590175Z",
     "iopub.status.idle": "2025-03-22T10:40:57.055480Z",
     "shell.execute_reply": "2025-03-22T10:40:57.054552Z",
     "shell.execute_reply.started": "2025-03-22T10:40:56.590483Z"
    },
    "trusted": true
   },
   "outputs": [
    {
     "data": {
      "image/png": "[encoded data removed]",
      "text/plain": [
       "<Figure size 800x600 with 1 Axes>"
      ]
     },
     "metadata": {},
     "output_type": "display_data"
    }
   ],
   "source": [
    "from sklearn.metrics import roc_curve\n",
    "plt.figure(figsize=(8,6))\n",
    "for name, y_proba in zip(['LogReg', 'RF', 'XGB'],\n",
    "                         [y_proba_logreg, y_proba_rf, y_proba_xgb]):\n",
    "    fpr, tpr, _ = roc_curve(y_test, y_proba)\n",
    "    auc = roc_auc_score(y_test, y_proba)\n",
    "    plt.plot(fpr, tpr, label=f\"{name} (AUC = {auc:.2f})\")\n",
    "plt.plot([0,1], [0,1], 'k--')\n",
    "plt.xlabel('False Positive Rate')\n",
    "plt.ylabel('True Positive Rate')\n",
    "plt.title('ROC Curves')\n",
    "plt.legend()\n",
    "plt.grid()\n",
    "plt.show()"
   ]
  },
  {
   "cell_type": "code",
   "execution_count": null,
   "metadata": {
    "execution": {
     "iopub.execute_input": "2025-03-22T10:42:44.460130Z",
     "iopub.status.busy": "2025-03-22T10:42:44.459607Z",
     "iopub.status.idle": "2025-03-22T10:42:44.687048Z",
     "shell.execute_reply": "2025-03-22T10:42:44.686068Z",
     "shell.execute_reply.started": "2025-03-22T10:42:44.460089Z"
    },
    "trusted": true
   },
   "outputs": [
    {
     "data": {
      "image/png": "[encoded data removed]",
      "text/plain": [
       "<Figure size 1000x500 with 1 Axes>"
      ]
     },
     "metadata": {},
     "output_type": "display_data"
    }
   ],
   "source": [
    "importances = rf.feature_importances_\n",
    "feature_names = X.columns\n",
    "plt.figure(figsize=(10,5))\n",
    "sns.barplot(x=importances, y=feature_names)\n",
    "plt.title(\"Random Forest - Feature Importance\")\n",
    "plt.show()\n"
   ]
  },
  {
   "cell_type": "code",
   "execution_count": null,
   "metadata": {
    "execution": {
     "iopub.execute_input": "2025-03-22T10:43:06.032898Z",
     "iopub.status.busy": "2025-03-22T10:43:06.032581Z",
     "iopub.status.idle": "2025-03-22T10:43:16.101885Z",
     "shell.execute_reply": "2025-03-22T10:43:16.101059Z",
     "shell.execute_reply.started": "2025-03-22T10:43:06.032872Z"
    },
    "trusted": true
   },
   "outputs": [
    {
     "name": "stdout",
     "output_type": "stream",
     "text": [
      "\n",
      "🔧 Sensor Reading #7453:\n",
      "Failure Probability: 0.0004\n",
      "⚠️ Predicted Status: OK\n",
      "\n",
      "🔧 Sensor Reading #23547:\n",
      "Failure Probability: 0.0000\n",
      "⚠️ Predicted Status: OK\n",
      "\n",
      "🔧 Sensor Reading #14159:\n",
      "Failure Probability: 0.0007\n",
      "⚠️ Predicted Status: OK\n",
      "\n",
      "🔧 Sensor Reading #7702:\n",
      "Failure Probability: 0.0004\n",
      "⚠️ Predicted Status: OK\n",
      "\n",
      "🔧 Sensor Reading #19694:\n",
      "Failure Probability: 0.0010\n",
      "⚠️ Predicted Status: OK\n",
      "\n",
      "🔧 Sensor Reading #13531:\n",
      "Failure Probability: 0.0062\n",
      "⚠️ Predicted Status: OK\n",
      "\n",
      "🔧 Sensor Reading #8498:\n",
      "Failure Probability: 0.0000\n",
      "⚠️ Predicted Status: OK\n",
      "\n",
      "🔧 Sensor Reading #2456:\n",
      "Failure Probability: 0.0000\n",
      "⚠️ Predicted Status: OK\n",
      "\n",
      "🔧 Sensor Reading #13830:\n",
      "Failure Probability: 0.0000\n",
      "⚠️ Predicted Status: OK\n",
      "\n",
      "🔧 Sensor Reading #23625:\n",
      "Failure Probability: 0.0000\n",
      "⚠️ Predicted Status: OK\n"
     ]
    }
   ],
   "source": [
    "import time\n",
    "import random\n",
    "\n",
    "def simulate_prediction(model, n=10):\n",
    "    for _ in range(n):\n",
    "        idx = random.randint(0, len(X_test)-1)\n",
    "        sample = X_test.iloc[[idx]]\n",
    "        proba = model.predict_proba(sample)[0][1]\n",
    "        pred = model.predict(sample)[0]\n",
    "        print(f\"\\n🔧 Sensor Reading #{idx}:\")\n",
    "        print(f\"Failure Probability: {proba:.4f}\")\n",
    "        print(\"⚠️ Predicted Status:\", \"FAILURE\" if pred == 1 else \"OK\")\n",
    "        time.sleep(1)\n",
    "\n",
    "simulate_prediction(xgb)\n"
   ]
  },
  {
   "cell_type": "code",
   "execution_count": null,
   "metadata": {
    "execution": {
     "iopub.execute_input": "2025-03-22T10:53:07.205811Z",
     "iopub.status.busy": "2025-03-22T10:53:07.205476Z",
     "iopub.status.idle": "2025-03-22T10:53:07.231925Z",
     "shell.execute_reply": "2025-03-22T10:53:07.231067Z",
     "shell.execute_reply.started": "2025-03-22T10:53:07.205783Z"
    },
    "trusted": true
   },
   "outputs": [],
   "source": [
    "import pickle\n",
    "\n",
    "# Save models\n",
    "with open(\"xgb_model.pkl\", \"wb\") as f:\n",
    "    pickle.dump(xgb, f)\n",
    "\n",
    "with open(\"rf_model.pkl\", \"wb\") as f:\n",
    "    pickle.dump(rf, f)\n",
    "\n",
    "with open(\"logreg_model.pkl\", \"wb\") as f:\n",
    "    pickle.dump(logreg, f)"
   ]
  },
  {
   "cell_type": "code",
   "execution_count": null,
   "metadata": {
    "execution": {
     "iopub.execute_input": "2025-03-22T10:53:10.105743Z",
     "iopub.status.busy": "2025-03-22T10:53:10.105459Z",
     "iopub.status.idle": "2025-03-22T10:53:10.111420Z",
     "shell.execute_reply": "2025-03-22T10:53:10.110432Z",
     "shell.execute_reply.started": "2025-03-22T10:53:10.105719Z"
    },
    "trusted": true
   },
   "outputs": [],
   "source": [
    "# Save scaler (only if you scaled features like metric1 to metric9)\n",
    "with open(\"scaler.pkl\", \"wb\") as f:\n",
    "    pickle.dump(scaler, f)\n",
    "\n",
    "# Save label encoder (if you encoded 'device')\n",
    "with open(\"device_encoder.pkl\", \"wb\") as f:\n",
    "    pickle.dump(le, f)"
   ]
  },
  {
   "cell_type": "code",
   "execution_count": null,
   "metadata": {
    "execution": {
     "iopub.execute_input": "2025-03-22T10:56:04.490559Z",
     "iopub.status.busy": "2025-03-22T10:56:04.490255Z",
     "iopub.status.idle": "2025-03-22T10:56:04.498458Z",
     "shell.execute_reply": "2025-03-22T10:56:04.497820Z",
     "shell.execute_reply.started": "2025-03-22T10:56:04.490535Z"
    },
    "trusted": true
   },
   "outputs": [],
   "source": [
    "import streamlit as st\n",
    "import numpy as np\n",
    "import pickle\n",
    "\n",
    "# Load trained model (pick one!)\n",
    "with open(\"xgb_model.pkl\", \"rb\") as f:\n",
    "    model = pickle.load(f)\n",
    "\n",
    "# Load scaler and encoder\n",
    "with open(\"scaler.pkl\", \"rb\") as f:\n",
    "    scaler = pickle.load(f)\n",
    "\n",
    "with open(\"device_encoder.pkl\", \"rb\") as f:\n",
    "    device_encoder = pickle.load(f)\n",
    "\n"
   ]
  },
  {
   "cell_type": "code",
   "execution_count": null,
   "metadata": {
    "execution": {
     "iopub.execute_input": "2025-03-22T10:43:30.330177Z",
     "iopub.status.busy": "2025-03-22T10:43:30.329827Z",
     "iopub.status.idle": "2025-03-22T10:43:39.793189Z",
     "shell.execute_reply": "2025-03-22T10:43:39.792216Z",
     "shell.execute_reply.started": "2025-03-22T10:43:30.330150Z"
    },
    "trusted": true
   },
   "outputs": [
    {
     "name": "stdout",
     "output_type": "stream",
     "text": [
      "Collecting streamlit\n",
      "  Downloading streamlit-1.43.2-py2.py3-none-any.whl.metadata (8.9 kB)\n",
      "Requirement already satisfied: altair<6,>=4.0 in /usr/local/lib/python3.10/dist-packages (from streamlit) (5.5.0)\n",
      "Requirement already satisfied: blinker<2,>=1.0.0 in /usr/local/lib/python3.10/dist-packages (from streamlit) (1.9.0)\n",
      "Requirement already satisfied: cachetools<6,>=4.0 in /usr/local/lib/python3.10/dist-packages (from streamlit) (5.5.0)\n",
      "Requirement already satisfied: click<9,>=7.0 in /usr/local/lib/python3.10/dist-packages (from streamlit) (8.1.7)\n",
      "Requirement already satisfied: numpy<3,>=1.23 in /usr/local/lib/python3.10/dist-packages (from streamlit) (1.26.4)\n",
      "Requirement already satisfied: packaging<25,>=20 in /usr/local/lib/python3.10/dist-packages (from streamlit) (24.2)\n",
      "Requirement already satisfied: pandas<3,>=1.4.0 in /usr/local/lib/python3.10/dist-packages (from streamlit) (2.2.3)\n",
      "Requirement already satisfied: pillow<12,>=7.1.0 in /usr/local/lib/python3.10/dist-packages (from streamlit) (11.0.0)\n",
      "Requirement already satisfied: protobuf<6,>=3.20 in /usr/local/lib/python3.10/dist-packages (from streamlit) (3.20.3)\n",
      "Requirement already satisfied: pyarrow>=7.0 in /usr/local/lib/python3.10/dist-packages (from streamlit) (19.0.1)\n",
      "Requirement already satisfied: requests<3,>=2.27 in /usr/local/lib/python3.10/dist-packages (from streamlit) (2.32.3)\n",
      "Requirement already satisfied: tenacity<10,>=8.1.0 in /usr/local/lib/python3.10/dist-packages (from streamlit) (9.0.0)\n",
      "Requirement already satisfied: toml<2,>=0.10.1 in /usr/local/lib/python3.10/dist-packages (from streamlit) (0.10.2)\n",
      "Requirement already satisfied: typing-extensions<5,>=4.4.0 in /usr/local/lib/python3.10/dist-packages (from streamlit) (4.12.2)\n",
      "Requirement already satisfied: watchdog<7,>=2.1.5 in /usr/local/lib/python3.10/dist-packages (from streamlit) (6.0.0)\n",
      "Requirement already satisfied: gitpython!=3.1.19,<4,>=3.0.7 in /usr/local/lib/python3.10/dist-packages (from streamlit) (3.1.43)\n",
      "Collecting pydeck<1,>=0.8.0b4 (from streamlit)\n",
      "  Downloading pydeck-0.9.1-py2.py3-none-any.whl.metadata (4.1 kB)\n",
      "Requirement already satisfied: tornado<7,>=6.0.3 in /usr/local/lib/python3.10/dist-packages (from streamlit) (6.3.3)\n",
      "Requirement already satisfied: jinja2 in /usr/local/lib/python3.10/dist-packages (from altair<6,>=4.0->streamlit) (3.1.4)\n",
      "Requirement already satisfied: jsonschema>=3.0 in /usr/local/lib/python3.10/dist-packages (from altair<6,>=4.0->streamlit) (4.23.0)\n",
      "Requirement already satisfied: narwhals>=1.14.2 in /usr/local/lib/python3.10/dist-packages (from altair<6,>=4.0->streamlit) (1.18.4)\n",
      "Requirement already satisfied: gitdb<5,>=4.0.1 in /usr/local/lib/python3.10/dist-packages (from gitpython!=3.1.19,<4,>=3.0.7->streamlit) (4.0.11)\n",
      "Requirement already satisfied: mkl_fft in /usr/local/lib/python3.10/dist-packages (from numpy<3,>=1.23->streamlit) (1.3.8)\n",
      "Requirement already satisfied: mkl_random in /usr/local/lib/python3.10/dist-packages (from numpy<3,>=1.23->streamlit) (1.2.4)\n",
      "Requirement already satisfied: mkl_umath in /usr/local/lib/python3.10/dist-packages (from numpy<3,>=1.23->streamlit) (0.1.1)\n",
      "Requirement already satisfied: mkl in /usr/local/lib/python3.10/dist-packages (from numpy<3,>=1.23->streamlit) (2025.0.1)\n",
      "Requirement already satisfied: tbb4py in /usr/local/lib/python3.10/dist-packages (from numpy<3,>=1.23->streamlit) (2022.0.0)\n",
      "Requirement already satisfied: mkl-service in /usr/local/lib/python3.10/dist-packages (from numpy<3,>=1.23->streamlit) (2.4.1)\n",
      "Requirement already satisfied: python-dateutil>=2.8.2 in /usr/local/lib/python3.10/dist-packages (from pandas<3,>=1.4.0->streamlit) (2.9.0.post0)\n",
      "Requirement already satisfied: pytz>=2020.1 in /usr/local/lib/python3.10/dist-packages (from pandas<3,>=1.4.0->streamlit) (2025.1)\n",
      "Requirement already satisfied: tzdata>=2022.7 in /usr/local/lib/python3.10/dist-packages (from pandas<3,>=1.4.0->streamlit) (2025.1)\n",
      "Requirement already satisfied: charset-normalizer<4,>=2 in /usr/local/lib/python3.10/dist-packages (from requests<3,>=2.27->streamlit) (3.4.1)\n",
      "Requirement already satisfied: idna<4,>=2.5 in /usr/local/lib/python3.10/dist-packages (from requests<3,>=2.27->streamlit) (3.10)\n",
      "Requirement already satisfied: urllib3<3,>=1.21.1 in /usr/local/lib/python3.10/dist-packages (from requests<3,>=2.27->streamlit) (2.3.0)\n",
      "Requirement already satisfied: certifi>=2017.4.17 in /usr/local/lib/python3.10/dist-packages (from requests<3,>=2.27->streamlit) (2025.1.31)\n",
      "Requirement already satisfied: smmap<6,>=3.0.1 in /usr/local/lib/python3.10/dist-packages (from gitdb<5,>=4.0.1->gitpython!=3.1.19,<4,>=3.0.7->streamlit) (5.0.1)\n",
      "Requirement already satisfied: MarkupSafe>=2.0 in /usr/local/lib/python3.10/dist-packages (from jinja2->altair<6,>=4.0->streamlit) (3.0.2)\n",
      "Requirement already satisfied: attrs>=22.2.0 in /usr/local/lib/python3.10/dist-packages (from jsonschema>=3.0->altair<6,>=4.0->streamlit) (25.1.0)\n",
      "Requirement already satisfied: jsonschema-specifications>=2023.03.6 in /usr/local/lib/python3.10/dist-packages (from jsonschema>=3.0->altair<6,>=4.0->streamlit) (2024.10.1)\n",
      "Requirement already satisfied: referencing>=0.28.4 in /usr/local/lib/python3.10/dist-packages (from jsonschema>=3.0->altair<6,>=4.0->streamlit) (0.35.1)\n",
      "Requirement already satisfied: rpds-py>=0.7.1 in /usr/local/lib/python3.10/dist-packages (from jsonschema>=3.0->altair<6,>=4.0->streamlit) (0.22.3)\n",
      "Requirement already satisfied: six>=1.5 in /usr/local/lib/python3.10/dist-packages (from python-dateutil>=2.8.2->pandas<3,>=1.4.0->streamlit) (1.17.0)\n",
      "Requirement already satisfied: intel-openmp>=2024 in /usr/local/lib/python3.10/dist-packages (from mkl->numpy<3,>=1.23->streamlit) (2024.2.0)\n",
      "Requirement already satisfied: tbb==2022.* in /usr/local/lib/python3.10/dist-packages (from mkl->numpy<3,>=1.23->streamlit) (2022.0.0)\n",
      "Requirement already satisfied: tcmlib==1.* in /usr/local/lib/python3.10/dist-packages (from tbb==2022.*->mkl->numpy<3,>=1.23->streamlit) (1.2.0)\n",
      "Requirement already satisfied: intel-cmplr-lib-rt in /usr/local/lib/python3.10/dist-packages (from mkl_umath->numpy<3,>=1.23->streamlit) (2024.2.0)\n",
      "Requirement already satisfied: intel-cmplr-lib-ur==2024.2.0 in /usr/local/lib/python3.10/dist-packages (from intel-openmp>=2024->mkl->numpy<3,>=1.23->streamlit) (2024.2.0)\n",
      "Downloading streamlit-1.43.2-py2.py3-none-any.whl (9.7 MB)\n",
      "\u001b[2K   \u001b[90m━━━━━━━━━━━━━━━━━━━━━━━━━━━━━━━━━━━━━━━━\u001b[0m \u001b[32m9.7/9.7 MB\u001b[0m \u001b[31m60.4 MB/s\u001b[0m eta \u001b[36m0:00:00\u001b[0m00:01\u001b[0m00:01\u001b[0m\n",
      "\u001b[?25hDownloading pydeck-0.9.1-py2.py3-none-any.whl (6.9 MB)\n",
      "\u001b[2K   \u001b[90m━━━━━━━━━━━━━━━━━━━━━━━━━━━━━━━━━━━━━━━━\u001b[0m \u001b[32m6.9/6.9 MB\u001b[0m \u001b[31m82.4 MB/s\u001b[0m eta \u001b[36m0:00:00\u001b[0m:00:01\u001b[0m00:01\u001b[0m\n",
      "\u001b[?25hInstalling collected packages: pydeck, streamlit\n",
      "Successfully installed pydeck-0.9.1 streamlit-1.43.2\n",
      "Note: you may need to restart the kernel to use updated packages.\n"
     ]
    }
   ],
   "source": [
    "pip install streamlit\n",
    "jupyter nbconvert --to script predictive_maintenance.ipynb\n",
    "\n"
   ]
  },
  {
   "cell_type": "code",
   "execution_count": null,
   "metadata": {
    "execution": {
     "iopub.execute_input": "2025-03-22T10:44:21.564175Z",
     "iopub.status.busy": "2025-03-22T10:44:21.563872Z",
     "iopub.status.idle": "2025-03-22T10:44:22.194045Z",
     "shell.execute_reply": "2025-03-22T10:44:22.192817Z",
     "shell.execute_reply.started": "2025-03-22T10:44:21.564148Z"
    },
    "trusted": true
   },
   "outputs": [
    {
     "name": "stderr",
     "output_type": "stream",
     "text": [
      "2025-03-22 10:44:21.568 Thread 'MainThread': missing ScriptRunContext! This warning can be ignored when running in bare mode.\n",
      "2025-03-22 10:44:21.569 Thread 'MainThread': missing ScriptRunContext! This warning can be ignored when running in bare mode.\n",
      "2025-03-22 10:44:21.571 Thread 'MainThread': missing ScriptRunContext! This warning can be ignored when running in bare mode.\n",
      "2025-03-22 10:44:21.572 Thread 'MainThread': missing ScriptRunContext! This warning can be ignored when running in bare mode.\n",
      "2025-03-22 10:44:21.573 Thread 'MainThread': missing ScriptRunContext! This warning can be ignored when running in bare mode.\n",
      "2025-03-22 10:44:21.574 Thread 'MainThread': missing ScriptRunContext! This warning can be ignored when running in bare mode.\n",
      "2025-03-22 10:44:21.574 Thread 'MainThread': missing ScriptRunContext! This warning can be ignored when running in bare mode.\n",
      "2025-03-22 10:44:21.575 Thread 'MainThread': missing ScriptRunContext! This warning can be ignored when running in bare mode.\n",
      "2025-03-22 10:44:21.576 Thread 'MainThread': missing ScriptRunContext! This warning can be ignored when running in bare mode.\n",
      "2025-03-22 10:44:21.577 Thread 'MainThread': missing ScriptRunContext! This warning can be ignored when running in bare mode.\n",
      "2025-03-22 10:44:21.578 Thread 'MainThread': missing ScriptRunContext! This warning can be ignored when running in bare mode.\n",
      "2025-03-22 10:44:21.578 Thread 'MainThread': missing ScriptRunContext! This warning can be ignored when running in bare mode.\n",
      "2025-03-22 10:44:21.580 Thread 'MainThread': missing ScriptRunContext! This warning can be ignored when running in bare mode.\n",
      "2025-03-22 10:44:21.581 Thread 'MainThread': missing ScriptRunContext! This warning can be ignored when running in bare mode.\n",
      "2025-03-22 10:44:21.581 Thread 'MainThread': missing ScriptRunContext! This warning can be ignored when running in bare mode.\n",
      "2025-03-22 10:44:21.582 Thread 'MainThread': missing ScriptRunContext! This warning can be ignored when running in bare mode.\n",
      "2025-03-22 10:44:21.583 Thread 'MainThread': missing ScriptRunContext! This warning can be ignored when running in bare mode.\n",
      "2025-03-22 10:44:21.583 Thread 'MainThread': missing ScriptRunContext! This warning can be ignored when running in bare mode.\n",
      "2025-03-22 10:44:21.584 Thread 'MainThread': missing ScriptRunContext! This warning can be ignored when running in bare mode.\n",
      "2025-03-22 10:44:21.585 Thread 'MainThread': missing ScriptRunContext! This warning can be ignored when running in bare mode.\n",
      "2025-03-22 10:44:21.586 Thread 'MainThread': missing ScriptRunContext! This warning can be ignored when running in bare mode.\n",
      "2025-03-22 10:44:21.586 Thread 'MainThread': missing ScriptRunContext! This warning can be ignored when running in bare mode.\n",
      "2025-03-22 10:44:21.587 Thread 'MainThread': missing ScriptRunContext! This warning can be ignored when running in bare mode.\n",
      "2025-03-22 10:44:21.588 Thread 'MainThread': missing ScriptRunContext! This warning can be ignored when running in bare mode.\n",
      "2025-03-22 10:44:21.588 Thread 'MainThread': missing ScriptRunContext! This warning can be ignored when running in bare mode.\n",
      "2025-03-22 10:44:21.589 Thread 'MainThread': missing ScriptRunContext! This warning can be ignored when running in bare mode.\n",
      "2025-03-22 10:44:21.590 Thread 'MainThread': missing ScriptRunContext! This warning can be ignored when running in bare mode.\n",
      "2025-03-22 10:44:21.591 Thread 'MainThread': missing ScriptRunContext! This warning can be ignored when running in bare mode.\n",
      "2025-03-22 10:44:21.595 Thread 'MainThread': missing ScriptRunContext! This warning can be ignored when running in bare mode.\n",
      "2025-03-22 10:44:21.596 Thread 'MainThread': missing ScriptRunContext! This warning can be ignored when running in bare mode.\n",
      "2025-03-22 10:44:21.597 Thread 'MainThread': missing ScriptRunContext! This warning can be ignored when running in bare mode.\n",
      "2025-03-22 10:44:21.598 Thread 'MainThread': missing ScriptRunContext! This warning can be ignored when running in bare mode.\n",
      "2025-03-22 10:44:21.598 Thread 'MainThread': missing ScriptRunContext! This warning can be ignored when running in bare mode.\n",
      "2025-03-22 10:44:21.600 Thread 'MainThread': missing ScriptRunContext! This warning can be ignored when running in bare mode.\n",
      "2025-03-22 10:44:21.601 Thread 'MainThread': missing ScriptRunContext! This warning can be ignored when running in bare mode.\n",
      "2025-03-22 10:44:21.601 Thread 'MainThread': missing ScriptRunContext! This warning can be ignored when running in bare mode.\n",
      "2025-03-22 10:44:21.602 Thread 'MainThread': missing ScriptRunContext! This warning can be ignored when running in bare mode.\n",
      "2025-03-22 10:44:21.603 Thread 'MainThread': missing ScriptRunContext! This warning can be ignored when running in bare mode.\n",
      "2025-03-22 10:44:21.603 Thread 'MainThread': missing ScriptRunContext! This warning can be ignored when running in bare mode.\n",
      "2025-03-22 10:44:21.604 Thread 'MainThread': missing ScriptRunContext! This warning can be ignored when running in bare mode.\n",
      "2025-03-22 10:44:21.606 Thread 'MainThread': missing ScriptRunContext! This warning can be ignored when running in bare mode.\n",
      "2025-03-22 10:44:21.607 Thread 'MainThread': missing ScriptRunContext! This warning can be ignored when running in bare mode.\n",
      "2025-03-22 10:44:21.608 Thread 'MainThread': missing ScriptRunContext! This warning can be ignored when running in bare mode.\n",
      "2025-03-22 10:44:21.609 Thread 'MainThread': missing ScriptRunContext! This warning can be ignored when running in bare mode.\n",
      "2025-03-22 10:44:21.609 Thread 'MainThread': missing ScriptRunContext! This warning can be ignored when running in bare mode.\n",
      "2025-03-22 10:44:21.610 Thread 'MainThread': missing ScriptRunContext! This warning can be ignored when running in bare mode.\n",
      "2025-03-22 10:44:21.610 Thread 'MainThread': missing ScriptRunContext! This warning can be ignored when running in bare mode.\n",
      "2025-03-22 10:44:21.611 Thread 'MainThread': missing ScriptRunContext! This warning can be ignored when running in bare mode.\n",
      "2025-03-22 10:44:21.612 Thread 'MainThread': missing ScriptRunContext! This warning can be ignored when running in bare mode.\n",
      "2025-03-22 10:44:21.613 Thread 'MainThread': missing ScriptRunContext! This warning can be ignored when running in bare mode.\n",
      "2025-03-22 10:44:21.615 Thread 'MainThread': missing ScriptRunContext! This warning can be ignored when running in bare mode.\n",
      "2025-03-22 10:44:21.615 Thread 'MainThread': missing ScriptRunContext! This warning can be ignored when running in bare mode.\n",
      "2025-03-22 10:44:21.616 Thread 'MainThread': missing ScriptRunContext! This warning can be ignored when running in bare mode.\n",
      "2025-03-22 10:44:21.621 Thread 'MainThread': missing ScriptRunContext! This warning can be ignored when running in bare mode.\n",
      "2025-03-22 10:44:21.622 Thread 'MainThread': missing ScriptRunContext! This warning can be ignored when running in bare mode.\n",
      "2025-03-22 10:44:21.623 Thread 'MainThread': missing ScriptRunContext! This warning can be ignored when running in bare mode.\n",
      "2025-03-22 10:44:21.623 Thread 'MainThread': missing ScriptRunContext! This warning can be ignored when running in bare mode.\n"
     ]
    },
    {
     "name": "stdout",
     "output_type": "stream",
     "text": [
      "Usage: streamlit run [OPTIONS] TARGET [ARGS]...\n",
      "Try 'streamlit run --help' for help.\n",
      "\n",
      "Error: Invalid value: File does not exist: app.py\n"
     ]
    }
   ],
   "source": [
    "import streamlit as st\n",
    "import numpy as np\n",
    "import joblib\n",
    "\n",
    "model = xgb  # or save/load from disk\n",
    "st.title(\"🛠️ Predictive Maintenance Dashboard\")\n",
    "\n",
    "metrics = [st.slider(f\"Metric {i+1}\", -3.0, 3.0, 0.0) for i in range(9)]\n",
    "device = st.number_input(\"Device Encoded ID\", 0)\n",
    "\n",
    "sample = np.array([*metrics, device]).reshape(1, -1)\n",
    "pred = model.predict(sample)[0]\n",
    "prob = model.predict_proba(sample)[0][1]\n",
    "\n",
    "st.markdown(f\"**Failure Probability:** `{prob:.2f}`\")\n",
    "st.markdown(f\"**Prediction:** {'⚠️ FAILURE' if pred else '✅ SAFE'}\")\n",
    "!streamlit run app.py\n"
   ]
  }
 ],
 "metadata": {
  "kaggle": {
   "accelerator": "nvidiaTeslaT4",
   "dataSources": [
    {
     "databundleVersionId": 4524039,
     "datasetId": 2613005,
     "sourceId": 4464096,
     "sourceType": "datasetVersion"
    }
   ],
   "dockerImageVersionId": 30919,
   "isGpuEnabled": true,
   "isInternetEnabled": true,
   "language": "python",
   "sourceType": "notebook"
  },
  "kernelspec": {
   "display_name": "Python 3",
   "language": "python",
   "name": "python3"
  },
  "language_info": {
   "codemirror_mode": {
    "name": "ipython",
    "version": 3
   },
   "file_extension": ".py",
   "mimetype": "text/x-python",
   "name": "python",
   "nbconvert_exporter": "python",
   "pygments_lexer": "ipython3",
   "version": "3.9.6"
  }
 },
 "nbformat": 4,
 "nbformat_minor": 4
}
